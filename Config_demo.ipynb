{
 "cells": [
  {
   "cell_type": "code",
   "execution_count": null,
   "metadata": {},
   "outputs": [],
   "source": [
    "from jupyter_core.application import JupyterApp\n",
    "from traitlets import Unicode\n",
    "from traitlets.config import Configurable, Config"
   ]
  },
  {
   "cell_type": "markdown",
   "metadata": {},
   "source": [
    "# Creating a Configurable class"
   ]
  },
  {
   "cell_type": "code",
   "execution_count": null,
   "metadata": {},
   "outputs": [],
   "source": [
    "class A(Configurable):\n",
    "    my_trait = Unicode(\"default\").tag(config=True)\n",
    "    \n",
    "    def _repr_markdown_(self):\n",
    "        return f\"**{self.__class__.__name__}**.*my_trait*: {self.my_trait}\"\n",
    "A()"
   ]
  },
  {
   "cell_type": "code",
   "execution_count": null,
   "metadata": {},
   "outputs": [],
   "source": [
    "config_dict = {\n",
    "    \"A\":{\n",
    "        \"my_trait\": \"Not the default\"    \n",
    "    }\n",
    "}\n",
    "\n",
    "config = Config(config_dict)\n",
    "A(config=config)"
   ]
  },
  {
   "cell_type": "code",
   "execution_count": null,
   "metadata": {},
   "outputs": [],
   "source": [
    "A(my_trait=\"I set this in my `__init__` through \\*\\*kwargs.\")"
   ]
  },
  {
   "cell_type": "markdown",
   "metadata": {},
   "source": [
    "# Subclassing Configurable classes"
   ]
  },
  {
   "cell_type": "code",
   "execution_count": null,
   "metadata": {
    "scrolled": true
   },
   "outputs": [],
   "source": [
    "class B(A):\n",
    "    pass\n",
    "\n",
    "display(B())"
   ]
  },
  {
   "cell_type": "markdown",
   "metadata": {},
   "source": [
    "## Subclasses inherit parent's settings"
   ]
  },
  {
   "cell_type": "code",
   "execution_count": null,
   "metadata": {},
   "outputs": [],
   "source": [
    "display(config)\n",
    "display(B(config=config))"
   ]
  },
  {
   "cell_type": "markdown",
   "metadata": {},
   "source": [
    "## Specificity wins"
   ]
  },
  {
   "cell_type": "code",
   "execution_count": null,
   "metadata": {},
   "outputs": [],
   "source": [
    "config.B.my_trait=\"B now has a new value\"\n",
    "\n",
    "display(config)\n",
    "B(config=config)"
   ]
  },
  {
   "cell_type": "markdown",
   "metadata": {},
   "source": [
    "## Configuration for classes that can't be Configurable\n",
    "\n",
    "E.g., `notebook.base.handlers.APIHandler` will break if you multiply inherit `Configurable`\n",
    "\n",
    "Solution:\n",
    "\n",
    "- Create a `Configurable` class next to the nonconfigurable class\n",
    "- Pass `Config` object into nonconfigurable class\n",
    "- In the nonconfigurable class, instantiate the `Configurable` class with the `Config` object"
   ]
  },
  {
   "cell_type": "code",
   "execution_count": null,
   "metadata": {},
   "outputs": [],
   "source": [
    "from notebook.base.handlers import APIHandler\n",
    "\n",
    "class HandlerSidecar(Configurable):\n",
    "    auth_token = Unicode(\"auth\").tag(config=True)\n",
    "    \n",
    "class MyHandler(APIHandler):\n",
    "    def custom_endpoint(self):\n",
    "        # self.config is a config object from NotebookWebApp\n",
    "        sidecar = HandlerSidecar(config=self.config)\n",
    "        self.auth_token = sidecar.auth_token\n"
   ]
  },
  {
   "cell_type": "markdown",
   "metadata": {},
   "source": [
    "## And now back to the slides!\n",
    "<br/><br/><br/><br/><br/><br/><br/><br/><br/><br/><br/><br/>\n"
   ]
  },
  {
   "cell_type": "markdown",
   "metadata": {},
   "source": [
    "# Finding config files"
   ]
  },
  {
   "cell_type": "markdown",
   "metadata": {},
   "source": [
    "## `jupyter --paths` shows the directories "
   ]
  },
  {
   "cell_type": "code",
   "execution_count": null,
   "metadata": {},
   "outputs": [],
   "source": [
    "!jupyter --paths"
   ]
  },
  {
   "cell_type": "markdown",
   "metadata": {},
   "source": [
    "## JupyterApp defines the config search targets\n",
    "\n",
    "### `App.name` defines the config file name\n",
    "\n",
    "**NB**:\n",
    "`-` is replaced with `_`."
   ]
  },
  {
   "cell_type": "code",
   "execution_count": null,
   "metadata": {},
   "outputs": [],
   "source": [
    "class SimpleConfig(JupyterApp):\n",
    "    name=\"jupyter-simple\"\n",
    "    \n",
    "    @classmethod\n",
    "    def show_config_path(cls):\n",
    "        test = cls()\n",
    "        for path in test.config_file_paths:\n",
    "            print(f\"{path}/{test.config_file_name}.py\")\n",
    "            print(f\"{path}/{test.config_file_name}.json\")\n",
    "            print()\n"
   ]
  },
  {
   "cell_type": "code",
   "execution_count": null,
   "metadata": {},
   "outputs": [],
   "source": [
    "test = SimpleConfig.show_config_path()"
   ]
  },
  {
   "cell_type": "markdown",
   "metadata": {},
   "source": [
    "## Examples of this convention in the wild"
   ]
  },
  {
   "cell_type": "markdown",
   "metadata": {},
   "source": [
    "e.g.,:\n",
    "- for `jupyter notebook`:  \n",
    "  `jupyter_notebook_config.py`\n",
    "\n",
    "- for `jupyter nbconvert`:  \n",
    "  `jupyter_nbconvert_config.json`"
   ]
  },
  {
   "cell_type": "markdown",
   "metadata": {},
   "source": [
    "# `jupyter config`:  A new app!\n",
    "\n",
    "Jupyter config helps you solve lots of config file issues\n",
    "\n",
    "```\n",
    "pip install jupyter_config\n",
    "```"
   ]
  },
  {
   "cell_type": "markdown",
   "metadata": {},
   "source": [
    "## Find all config files with `jupyter config list`"
   ]
  },
  {
   "cell_type": "code",
   "execution_count": null,
   "metadata": {},
   "outputs": [],
   "source": [
    "!jupyter config list"
   ]
  },
  {
   "cell_type": "markdown",
   "metadata": {},
   "source": [
    "# Loading config into an app"
   ]
  },
  {
   "cell_type": "code",
   "execution_count": null,
   "metadata": {},
   "outputs": [],
   "source": [
    "class TestConfig(SimpleConfig):\n",
    "    name=\"jupyter_test\"\n",
    "\n",
    "    def start(self):\n",
    "        self.a = A(parent=self)\n",
    "        self.b = B(parent=self)\n",
    "        \n",
    "    def get_started(self):\n",
    "        # self.initialize loads the config\n",
    "        # self.start is where you apply app specific logic\n",
    "        self.initialize([])\n",
    "        self.start()\n",
    "        return self\n",
    "\n",
    "    def _ipython_display_(self):\n",
    "        display(self.a)\n",
    "        display(self.b)\n"
   ]
  },
  {
   "cell_type": "code",
   "execution_count": null,
   "metadata": {},
   "outputs": [],
   "source": [
    "TestConfig.show_config_path()"
   ]
  },
  {
   "cell_type": "code",
   "execution_count": null,
   "metadata": {},
   "outputs": [],
   "source": [
    "TestConfig().get_started()"
   ]
  },
  {
   "cell_type": "code",
   "execution_count": null,
   "metadata": {},
   "outputs": [],
   "source": [
    "%pycat /Users/mpacer/jupyter/config_talk/jupyter_test_config.py"
   ]
  },
  {
   "cell_type": "markdown",
   "metadata": {},
   "source": [
    "# Specificity wins again!"
   ]
  },
  {
   "cell_type": "code",
   "execution_count": null,
   "metadata": {},
   "outputs": [],
   "source": [
    "class ConflictConfig(TestConfig):\n",
    "    name = \"jupyter_conflict\"\n",
    "\n",
    "ConflictConfig.show_config_path()"
   ]
  },
  {
   "cell_type": "code",
   "execution_count": null,
   "metadata": {},
   "outputs": [],
   "source": [
    "conflict = ConflictConfig().get_started()\n",
    "display(conflict)"
   ]
  },
  {
   "cell_type": "markdown",
   "metadata": {},
   "source": [
    "## Find config settings with `jupyter config search`"
   ]
  },
  {
   "cell_type": "code",
   "execution_count": null,
   "metadata": {},
   "outputs": [],
   "source": [
    "!jupyter config search my_trait"
   ]
  },
  {
   "cell_type": "markdown",
   "metadata": {},
   "source": [
    "# Setting traits from the command line"
   ]
  },
  {
   "cell_type": "markdown",
   "metadata": {},
   "source": [
    "Trait values are also surfaced from the command line:\n",
    "\n",
    "```\n",
    "jupyter notebook --NotebookApp.port=8889 --NotebookApp.open_browser=False\n",
    "```\n",
    "\n",
    "Shortened versions are sometimes available via `aliases` and `flags`:\n",
    "\n",
    "```\n",
    "jupyter notebook --port=8889 --no-browser\n",
    "```"
   ]
  },
  {
   "cell_type": "markdown",
   "metadata": {},
   "source": [
    "## And now back to the slides!\n",
    "<br/><br/><br/><br/><br/><br/><br/><br/><br/><br/><br/><br/>\n"
   ]
  },
  {
   "cell_type": "code",
   "execution_count": null,
   "metadata": {},
   "outputs": [],
   "source": [
    "d"
   ]
  }
 ],
 "metadata": {
  "kernelspec": {
   "display_name": "Python 3",
   "language": "python",
   "name": "python3"
  },
  "language_info": {
   "codemirror_mode": {
    "name": "ipython",
    "version": 3
   },
   "file_extension": ".py",
   "mimetype": "text/x-python",
   "name": "python",
   "nbconvert_exporter": "python",
   "pygments_lexer": "ipython3",
   "version": "3.6.5"
  }
 },
 "nbformat": 4,
 "nbformat_minor": 2
}
