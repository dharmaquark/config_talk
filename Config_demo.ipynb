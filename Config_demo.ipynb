{
 "cells": [
  {
   "cell_type": "code",
   "execution_count": 1,
   "metadata": {},
   "outputs": [],
   "source": [
    "from jupyter_core.application import JupyterApp\n",
    "from traitlets import Unicode\n",
    "from traitlets.config import Configurable, Config"
   ]
  },
  {
   "cell_type": "markdown",
   "metadata": {},
   "source": [
    "# Creating a Configurable class"
   ]
  },
  {
   "cell_type": "code",
   "execution_count": 2,
   "metadata": {},
   "outputs": [],
   "source": [
    "class A(Configurable):\n",
    "    my_trait = Unicode(\"default\").tag(config=True)\n",
    "    \n",
    "    def _repr_markdown_(self):\n",
    "        return f\"**{self.__class__.__name__}**.*my_trait*: {self.my_trait}\""
   ]
  },
  {
   "cell_type": "code",
   "execution_count": 3,
   "metadata": {},
   "outputs": [
    {
     "data": {
      "text/markdown": [
       "**A**.*my_trait*: Not the default"
      ],
      "text/plain": [
       "<__main__.A at 0x10596c828>"
      ]
     },
     "execution_count": 3,
     "metadata": {},
     "output_type": "execute_result"
    }
   ],
   "source": [
    "config_dict = {\n",
    "    \"A\":{\n",
    "        \"my_trait\": \"Not the default\"    \n",
    "    }\n",
    "}\n",
    "\n",
    "config = Config(config_dict)\n",
    "A(config=config)"
   ]
  },
  {
   "cell_type": "code",
   "execution_count": 4,
   "metadata": {},
   "outputs": [
    {
     "data": {
      "text/markdown": [
       "**A**.*my_trait*: I set this in my `__init__` through \\*\\*kwargs."
      ],
      "text/plain": [
       "<__main__.A at 0x10596c550>"
      ]
     },
     "execution_count": 4,
     "metadata": {},
     "output_type": "execute_result"
    }
   ],
   "source": [
    "A(my_trait=\"I set this in my `__init__` through \\*\\*kwargs.\")"
   ]
  },
  {
   "cell_type": "markdown",
   "metadata": {},
   "source": [
    "# Subclassing Configurable classes"
   ]
  },
  {
   "cell_type": "code",
   "execution_count": 5,
   "metadata": {},
   "outputs": [
    {
     "data": {
      "text/markdown": [
       "**B**.*my_trait*: default"
      ],
      "text/plain": [
       "<__main__.B at 0x10596c6d8>"
      ]
     },
     "metadata": {},
     "output_type": "display_data"
    }
   ],
   "source": [
    "class B(A):\n",
    "    pass\n",
    "\n",
    "display(B())"
   ]
  },
  {
   "cell_type": "markdown",
   "metadata": {},
   "source": [
    "## Subclasses inherit parent's settings"
   ]
  },
  {
   "cell_type": "code",
   "execution_count": 6,
   "metadata": {},
   "outputs": [
    {
     "data": {
      "text/markdown": [
       "**B**.*my_trait*: Not the default"
      ],
      "text/plain": [
       "<__main__.B at 0x10596c4a8>"
      ]
     },
     "metadata": {},
     "output_type": "display_data"
    }
   ],
   "source": [
    "display(B(config=config))"
   ]
  },
  {
   "cell_type": "markdown",
   "metadata": {},
   "source": [
    "## Set traits with  \".\" access on Config objects"
   ]
  },
  {
   "cell_type": "code",
   "execution_count": 7,
   "metadata": {},
   "outputs": [
    {
     "data": {
      "text/plain": [
       "traitlets.config.loader.Config"
      ]
     },
     "metadata": {},
     "output_type": "display_data"
    },
    {
     "data": {
      "text/plain": [
       "{'A': {'my_trait': 'Not the default'},\n",
       " 'B': {'my_trait': 'B now has a new value'}}"
      ]
     },
     "metadata": {},
     "output_type": "display_data"
    }
   ],
   "source": [
    "config.B.my_trait=\"B now has a new value\"\n",
    "display(type(config), config)"
   ]
  },
  {
   "cell_type": "markdown",
   "metadata": {},
   "source": [
    "## Specificity wins"
   ]
  },
  {
   "cell_type": "code",
   "execution_count": 8,
   "metadata": {},
   "outputs": [
    {
     "data": {
      "text/markdown": [
       "**B**.*my_trait*: B now has a new value"
      ],
      "text/plain": [
       "<__main__.B at 0x10596c7f0>"
      ]
     },
     "execution_count": 8,
     "metadata": {},
     "output_type": "execute_result"
    }
   ],
   "source": [
    "B(config=config)"
   ]
  },
  {
   "cell_type": "markdown",
   "metadata": {},
   "source": [
    "## Configuration for classes that can't be Configurable\n",
    "\n",
    "E.g., `notebook.base.handlers.APIHandler` will break if you multiply inherit `Configurable`\n",
    "\n",
    "Solution:\n",
    "\n",
    "- Create a Configurable class next to the nonconfigurable class\n",
    "- Pass config object into nonconfigurable class\n",
    "- In the nonconfigurable class, instantiate the Configurable class with the config object"
   ]
  },
  {
   "cell_type": "code",
   "execution_count": null,
   "metadata": {},
   "outputs": [],
   "source": [
    "from notebook.base.handlers import APIHandler\n",
    "\n",
    "class HandlerSidecar(Configurable):\n",
    "    auth_token = Unicode(\"auth\")\n",
    "    \n",
    "class MyHandler(APIHandler):\n",
    "    def custom_endpoint(self):\n",
    "        # self.config is a config object from NotebookWebApp\n",
    "        sidecar = HandlerSidecar(config=self.config)\n",
    "        self.auth_token = sidecar.auth_token\n"
   ]
  },
  {
   "cell_type": "markdown",
   "metadata": {},
   "source": [
    "## And now back to the slides!\n",
    "<br/><br/><br/><br/><br/><br/><br/><br/><br/><br/><br/><br/>\n"
   ]
  },
  {
   "cell_type": "markdown",
   "metadata": {},
   "source": [
    "# Finding config files"
   ]
  },
  {
   "cell_type": "markdown",
   "metadata": {},
   "source": [
    "## `jupyter --paths` shows the directories "
   ]
  },
  {
   "cell_type": "code",
   "execution_count": 9,
   "metadata": {},
   "outputs": [
    {
     "name": "stdout",
     "output_type": "stream",
     "text": [
      "config:\r\n",
      "    /Users/mpacer/.jupyter\r\n",
      "    /Users/mpacer/miniconda3/envs/dev/etc/jupyter\r\n",
      "    /usr/local/etc/jupyter\r\n",
      "    /etc/jupyter\r\n",
      "data:\r\n",
      "    /Users/mpacer/Library/Jupyter\r\n",
      "    /Users/mpacer/miniconda3/envs/dev/share/jupyter\r\n",
      "    /usr/local/share/jupyter\r\n",
      "    /usr/share/jupyter\r\n",
      "runtime:\r\n",
      "    /Users/mpacer/Library/Jupyter/runtime\r\n"
     ]
    }
   ],
   "source": [
    "!jupyter --paths"
   ]
  },
  {
   "cell_type": "markdown",
   "metadata": {},
   "source": [
    "## JupyterApp defines the config search targets\n",
    "\n",
    "### `App.name` defines the config file name\n",
    "\n",
    "**NB**:\n",
    "`-` is replaced with `_`."
   ]
  },
  {
   "cell_type": "code",
   "execution_count": 10,
   "metadata": {},
   "outputs": [],
   "source": [
    "class SimpleConfig(JupyterApp):\n",
    "    name=\"jupyter-simple\"\n",
    "    \n",
    "    @classmethod\n",
    "    def show_config_path(cls):\n",
    "        test = cls()\n",
    "        for path in test.config_file_paths:\n",
    "            print(f\"{path}/{test.config_file_name}.py\")\n",
    "            print(f\"{path}/{test.config_file_name}.json\")\n",
    "            print()\n"
   ]
  },
  {
   "cell_type": "code",
   "execution_count": 11,
   "metadata": {},
   "outputs": [
    {
     "name": "stdout",
     "output_type": "stream",
     "text": [
      "/Users/mpacer/jupyter/config_talk/jupyter_simple_config.py\n",
      "/Users/mpacer/jupyter/config_talk/jupyter_simple_config.json\n",
      "\n",
      "/Users/mpacer/.jupyter/jupyter_simple_config.py\n",
      "/Users/mpacer/.jupyter/jupyter_simple_config.json\n",
      "\n",
      "/Users/mpacer/miniconda3/envs/dev/etc/jupyter/jupyter_simple_config.py\n",
      "/Users/mpacer/miniconda3/envs/dev/etc/jupyter/jupyter_simple_config.json\n",
      "\n",
      "/usr/local/etc/jupyter/jupyter_simple_config.py\n",
      "/usr/local/etc/jupyter/jupyter_simple_config.json\n",
      "\n",
      "/etc/jupyter/jupyter_simple_config.py\n",
      "/etc/jupyter/jupyter_simple_config.json\n",
      "\n"
     ]
    }
   ],
   "source": [
    "test = SimpleConfig.show_config_path()"
   ]
  },
  {
   "cell_type": "markdown",
   "metadata": {},
   "source": [
    "## Examples of this convention in the wild"
   ]
  },
  {
   "cell_type": "markdown",
   "metadata": {},
   "source": [
    "e.g.,:\n",
    "- for `jupyter notebook`:  \n",
    "  `jupyter_notebook_config.py`\n",
    "\n",
    "- for `jupyter nbconvert`:  \n",
    "  `jupyter_nbconvert_config.json`"
   ]
  },
  {
   "cell_type": "markdown",
   "metadata": {},
   "source": [
    "# `jupyter config`:  A new app!\n",
    "\n",
    "Jupyter config helps you solve lots of config file issues\n",
    "\n",
    "```\n",
    "pip install jupyter_config\n",
    "```"
   ]
  },
  {
   "cell_type": "markdown",
   "metadata": {},
   "source": [
    "## Find all config files with `jupyter config list`"
   ]
  },
  {
   "cell_type": "code",
   "execution_count": 12,
   "metadata": {},
   "outputs": [
    {
     "name": "stdout",
     "output_type": "stream",
     "text": [
      "jupyter_test_config.py\r\n",
      "jupyter_conflict_config.py\r\n",
      "/Users/mpacer/.jupyter/jupyter_notebook_config.json\r\n",
      "/Users/mpacer/.jupyter/jupyter_console_config.py\r\n",
      "/Users/mpacer/.jupyter/jupyter_notebook_config.py\r\n",
      "/Users/mpacer/.jupyter/jupyter_nbconvert_config.py\r\n",
      "/Users/mpacer/miniconda3/envs/dev/etc/jupyter/jupyter_notebook_config.json\r\n",
      "/Users/mpacer/miniconda3/envs/dev/etc/jupyter/jupyter_notebook_config.py\r\n",
      "/Users/mpacer/miniconda3/envs/dev/etc/jupyter/jupyter_conflict_config.py\r\n",
      "/Users/mpacer/.jupyter/nbconfig/edit.json\r\n",
      "/Users/mpacer/.jupyter/nbconfig/notebook.json\r\n",
      "/Users/mpacer/miniconda3/envs/dev/etc/jupyter/nbconfig/edit.json\r\n",
      "/Users/mpacer/miniconda3/envs/dev/etc/jupyter/nbconfig/notebook.json\r\n",
      "/Users/mpacer/miniconda3/envs/dev/etc/jupyter/nbconfig/terminal.json\r\n",
      "/Users/mpacer/miniconda3/envs/dev/etc/jupyter/nbconfig/tree.json\r\n",
      "/Users/mpacer/miniconda3/envs/dev/etc/jupyter/nbconfig/notebook.d/widgetsnbextension.json\r\n"
     ]
    }
   ],
   "source": [
    "!jupyter config list"
   ]
  },
  {
   "cell_type": "markdown",
   "metadata": {},
   "source": [
    "# Loading config into an app"
   ]
  },
  {
   "cell_type": "code",
   "execution_count": 13,
   "metadata": {},
   "outputs": [],
   "source": [
    "class TestConfig(SimpleConfig):\n",
    "    name=\"jupyter_test\"\n",
    "\n",
    "    def start(self):\n",
    "        self.a = A(parent=self)\n",
    "        self.b = B(parent=self)\n",
    "        \n",
    "    def get_started(self):\n",
    "        # self.initialize loads the config\n",
    "        # self.start is where you apply app specific logic\n",
    "        self.initialize([])\n",
    "        self.start()\n",
    "        return self\n",
    "\n",
    "    def _ipython_display_(self):\n",
    "        display(self.a)\n",
    "        display(self.b)\n"
   ]
  },
  {
   "cell_type": "code",
   "execution_count": 14,
   "metadata": {},
   "outputs": [
    {
     "name": "stdout",
     "output_type": "stream",
     "text": [
      "/Users/mpacer/jupyter/config_talk/jupyter_test_config.py\n",
      "/Users/mpacer/jupyter/config_talk/jupyter_test_config.json\n",
      "\n",
      "/Users/mpacer/.jupyter/jupyter_test_config.py\n",
      "/Users/mpacer/.jupyter/jupyter_test_config.json\n",
      "\n",
      "/Users/mpacer/miniconda3/envs/dev/etc/jupyter/jupyter_test_config.py\n",
      "/Users/mpacer/miniconda3/envs/dev/etc/jupyter/jupyter_test_config.json\n",
      "\n",
      "/usr/local/etc/jupyter/jupyter_test_config.py\n",
      "/usr/local/etc/jupyter/jupyter_test_config.json\n",
      "\n",
      "/etc/jupyter/jupyter_test_config.py\n",
      "/etc/jupyter/jupyter_test_config.json\n",
      "\n"
     ]
    }
   ],
   "source": [
    "TestConfig.show_config_path()"
   ]
  },
  {
   "cell_type": "code",
   "execution_count": 15,
   "metadata": {},
   "outputs": [
    {
     "data": {
      "text/markdown": [
       "**A**.*my_trait*: In /Users/mpacer/jupyter/config_talk/jupyter_test_config.py, I set A."
      ],
      "text/plain": [
       "<__main__.A at 0x10596c4e0>"
      ]
     },
     "metadata": {},
     "output_type": "display_data"
    },
    {
     "data": {
      "text/markdown": [
       "**B**.*my_trait*: In /Users/mpacer/jupyter/config_talk/jupyter_test_config.py, I set B."
      ],
      "text/plain": [
       "<__main__.B at 0x10598a9e8>"
      ]
     },
     "metadata": {},
     "output_type": "display_data"
    }
   ],
   "source": [
    "TestConfig().get_started()"
   ]
  },
  {
   "cell_type": "code",
   "execution_count": 16,
   "metadata": {},
   "outputs": [
    {
     "data": {
      "text/plain": [
       "\u001b[0mc\u001b[0m\u001b[0;34m.\u001b[0m\u001b[0mA\u001b[0m\u001b[0;34m.\u001b[0m\u001b[0mmy_trait\u001b[0m \u001b[0;34m=\u001b[0m \u001b[0;34mf\"In {__file__}, I set A.\"\u001b[0m\u001b[0;34m\u001b[0m\n",
       "\u001b[0;34m\u001b[0m\u001b[0mc\u001b[0m\u001b[0;34m.\u001b[0m\u001b[0mB\u001b[0m\u001b[0;34m.\u001b[0m\u001b[0mmy_trait\u001b[0m \u001b[0;34m=\u001b[0m \u001b[0;34mf\"In {__file__}, I set B.\"\u001b[0m\u001b[0;34m\u001b[0m\u001b[0m\n"
      ]
     },
     "metadata": {},
     "output_type": "display_data"
    }
   ],
   "source": [
    "%pycat /Users/mpacer/jupyter/config_talk/jupyter_test_config.py"
   ]
  },
  {
   "cell_type": "markdown",
   "metadata": {},
   "source": [
    "# Specificity wins again!"
   ]
  },
  {
   "cell_type": "code",
   "execution_count": 17,
   "metadata": {},
   "outputs": [
    {
     "name": "stdout",
     "output_type": "stream",
     "text": [
      "/Users/mpacer/jupyter/config_talk/jupyter_conflict_config.py\n",
      "/Users/mpacer/jupyter/config_talk/jupyter_conflict_config.json\n",
      "\n",
      "/Users/mpacer/.jupyter/jupyter_conflict_config.py\n",
      "/Users/mpacer/.jupyter/jupyter_conflict_config.json\n",
      "\n",
      "/Users/mpacer/miniconda3/envs/dev/etc/jupyter/jupyter_conflict_config.py\n",
      "/Users/mpacer/miniconda3/envs/dev/etc/jupyter/jupyter_conflict_config.json\n",
      "\n",
      "/usr/local/etc/jupyter/jupyter_conflict_config.py\n",
      "/usr/local/etc/jupyter/jupyter_conflict_config.json\n",
      "\n",
      "/etc/jupyter/jupyter_conflict_config.py\n",
      "/etc/jupyter/jupyter_conflict_config.json\n",
      "\n"
     ]
    }
   ],
   "source": [
    "class ConflictConfig(TestConfig):\n",
    "    name = \"jupyter_conflict\"\n",
    "\n",
    "ConflictConfig.show_config_path()"
   ]
  },
  {
   "cell_type": "code",
   "execution_count": 18,
   "metadata": {},
   "outputs": [
    {
     "data": {
      "text/markdown": [
       "**A**.*my_trait*: In /Users/mpacer/jupyter/config_talk/jupyter_conflict_config.py, I set A."
      ],
      "text/plain": [
       "<__main__.A at 0x10598a940>"
      ]
     },
     "metadata": {},
     "output_type": "display_data"
    },
    {
     "data": {
      "text/markdown": [
       "**B**.*my_trait*: In /Users/mpacer/miniconda3/envs/dev/etc/jupyter/jupyter_conflict_config.py location, I set B."
      ],
      "text/plain": [
       "<__main__.B at 0x10598a7b8>"
      ]
     },
     "metadata": {},
     "output_type": "display_data"
    }
   ],
   "source": [
    "conflict = ConflictConfig().get_started()\n",
    "display(conflict)"
   ]
  },
  {
   "cell_type": "markdown",
   "metadata": {},
   "source": [
    "## Find config settings with `jupyter config search`"
   ]
  },
  {
   "cell_type": "code",
   "execution_count": 24,
   "metadata": {},
   "outputs": [
    {
     "name": "stdout",
     "output_type": "stream",
     "text": [
      "jupyter_test_config.py\r\n",
      "1: c.A.my_trait = f\"In {__file__}, I set A.\"\r\n",
      "2: c.B.my_trait = f\"In {__file__}, I set B.\" \r\n",
      "\r\n",
      "jupyter_conflict_config.py\r\n",
      "1: c.A.my_trait = f\"In {__file__}, I set A.\" \r\n",
      "\r\n",
      "/Users/mpacer/miniconda3/envs/dev/etc/jupyter/jupyter_conflict_config.py\r\n",
      "1: c.B.my_trait = f\"In {__file__} location, I set B.\" \r\n",
      "\r\n",
      "/usr/local/etc/jupyter/jupyter_conflict_config.py\r\n",
      "1: c.A.my_trait = f\"I am not loaded because I'm overwritten locally.\" \r\n",
      "\r\n"
     ]
    }
   ],
   "source": [
    "!jupyter config search my_trait"
   ]
  },
  {
   "cell_type": "markdown",
   "metadata": {},
   "source": [
    "# Setting traits from the command line"
   ]
  },
  {
   "cell_type": "markdown",
   "metadata": {},
   "source": [
    "Trait values are also surfaced from the command line:\n",
    "\n",
    "```\n",
    "jupyter notebook --NotebookApp.port=8889 --NotebookApp.open_browser=False\n",
    "```\n",
    "\n",
    "Shortened versions are sometimes available via `aliases` and `flags`:\n",
    "\n",
    "```\n",
    "jupyter notebook --port=8889 --no-browser\n",
    "```"
   ]
  },
  {
   "cell_type": "markdown",
   "metadata": {},
   "source": [
    "## And now back to the slides!\n",
    "<br/><br/><br/><br/><br/><br/><br/><br/><br/><br/><br/><br/>\n"
   ]
  }
 ],
 "metadata": {
  "kernelspec": {
   "display_name": "Python 3",
   "language": "python",
   "name": "python3"
  },
  "language_info": {
   "codemirror_mode": {
    "name": "ipython",
    "version": 3
   },
   "file_extension": ".py",
   "mimetype": "text/x-python",
   "name": "python",
   "nbconvert_exporter": "python",
   "pygments_lexer": "ipython3",
   "version": "3.6.5"
  }
 },
 "nbformat": 4,
 "nbformat_minor": 2
}
